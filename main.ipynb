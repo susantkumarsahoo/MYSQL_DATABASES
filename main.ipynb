{
 "cells": [
  {
   "cell_type": "code",
   "execution_count": 2,
   "metadata": {},
   "outputs": [
    {
     "name": "stdout",
     "output_type": "stream",
     "text": [
      "ok\n"
     ]
    }
   ],
   "source": [
    "print('ok')"
   ]
  },
  {
   "cell_type": "code",
   "execution_count": 5,
   "metadata": {},
   "outputs": [
    {
     "name": "stdout",
     "output_type": "stream",
     "text": [
      "Successfully connected to MySQL server\n"
     ]
    }
   ],
   "source": [
    "import mysql.connector\n",
    "\n",
    "# Connect to MySQL server\n",
    "try:\n",
    "    connection = mysql.connector.connect(\n",
    "        host=\"localhost\",         # Replace with your MySQL host\n",
    "        user=\"root\",              # Replace with your MySQL username\n",
    "        password=\"Susant@123456\"  # Replace with your MySQL password\n",
    "    )\n",
    "\n",
    "    if connection.is_connected():\n",
    "        print(\"Successfully connected to MySQL server\")\n",
    "\n",
    "    # Create a cursor object\n",
    "    cursor = connection.cursor()\n",
    "\n",
    "\n",
    "except mysql.connector.Error as err:\n",
    "    print(f\"Error: {err}\")\n"
   ]
  },
  {
   "cell_type": "code",
   "execution_count": 8,
   "metadata": {},
   "outputs": [
    {
     "name": "stdout",
     "output_type": "stream",
     "text": [
      "(1, 'John Doe', 20, 'A', 'john.doe@example.com')\n",
      "(2, 'Jane Smith', 19, 'B+', 'jane.smith@example.com')\n",
      "(3, 'Michael Johnson', 21, 'A-', 'michael.j@example.com')\n",
      "(4, 'Emily Davis', 22, 'B', 'emily.davis@example.com')\n",
      "(5, 'Chris Brown', 20, 'A', 'chris.brown@example.com')\n",
      "(6, 'Sarah Wilson', 19, 'B+', 'sarah.wilson@example.com')\n",
      "(7, 'David Jones', 23, 'C+', 'david.jones@example.com')\n",
      "(8, 'Laura Garcia', 20, 'A', 'laura.garcia@example.com')\n",
      "(9, 'Daniel Martinez', 21, 'B', 'daniel.martinez@example.com')\n",
      "(10, 'Sophia Lopez', 22, 'A-', 'sophia.lopez@example.com')\n",
      "(11, 'John Doe', 20, 'A', 'john.doe@example.com')\n",
      "(12, 'Jane Smith', 19, 'B+', 'jane.smith@example.com')\n",
      "(13, 'Michael Johnson', 21, 'A-', 'michael.j@example.com')\n",
      "(14, 'Emily Davis', 22, 'B', 'emily.davis@example.com')\n",
      "(15, 'Chris Brown', 20, 'A', 'chris.brown@example.com')\n",
      "(16, 'Sarah Wilson', 19, 'B+', 'sarah.wilson@example.com')\n",
      "(17, 'David Jones', 23, 'C+', 'david.jones@example.com')\n",
      "(18, 'Laura Garcia', 20, 'A', 'laura.garcia@example.com')\n",
      "(19, 'Daniel Martinez', 21, 'B', 'daniel.martinez@example.com')\n",
      "(20, 'Sophia Lopez', 22, 'A-', 'sophia.lopez@example.com')\n"
     ]
    }
   ],
   "source": [
    "# Create database\n",
    "cursor.execute(\"CREATE DATABASE IF NOT EXISTS students_db\")\n",
    "cursor.execute(\"USE students_db\")\n",
    "\n",
    "cursor.execute(\"\"\"\n",
    "CREATE TABLE IF NOT EXISTS students (\n",
    "    id INT AUTO_INCREMENT PRIMARY KEY,\n",
    "    name VARCHAR(100),\n",
    "    age INT,\n",
    "    grade VARCHAR(10),\n",
    "    email VARCHAR(100)\n",
    ")\n",
    "\"\"\")\n",
    "\n",
    "\n",
    "\n",
    "students = [\n",
    "    (\"John Doe\", 20, \"A\", \"john.doe@example.com\"),\n",
    "    (\"Jane Smith\", 19, \"B+\", \"jane.smith@example.com\"),\n",
    "    (\"Michael Johnson\", 21, \"A-\", \"michael.j@example.com\"),\n",
    "    (\"Emily Davis\", 22, \"B\", \"emily.davis@example.com\"),\n",
    "    (\"Chris Brown\", 20, \"A\", \"chris.brown@example.com\"),\n",
    "    (\"Sarah Wilson\", 19, \"B+\", \"sarah.wilson@example.com\"),\n",
    "    (\"David Jones\", 23, \"C+\", \"david.jones@example.com\"),\n",
    "    (\"Laura Garcia\", 20, \"A\", \"laura.garcia@example.com\"),\n",
    "    (\"Daniel Martinez\", 21, \"B\", \"daniel.martinez@example.com\"),\n",
    "    (\"Sophia Lopez\", 22, \"A-\", \"sophia.lopez@example.com\")\n",
    "]\n",
    "\n",
    "cursor.executemany(\"\"\"\n",
    "INSERT INTO students (name, age, grade, email)\n",
    "VALUES (%s, %s, %s, %s)\n",
    "\"\"\", students)\n",
    "\n",
    "connection.commit()\n",
    "\n",
    "# Fetch and display all students\n",
    "cursor.execute(\"SELECT * FROM students\")\n",
    "for student in cursor.fetchall():\n",
    "    print(student)\n",
    "\n"
   ]
  },
  {
   "cell_type": "code",
   "execution_count": 13,
   "metadata": {},
   "outputs": [
    {
     "name": "stdout",
     "output_type": "stream",
     "text": [
      "('information_schema',)\n",
      "('mysql',)\n",
      "('performance_schema',)\n",
      "('students_db',)\n",
      "('susant_db',)\n",
      "('sys',)\n"
     ]
    }
   ],
   "source": [
    "cursor.execute(\"SHOW DATABASES;\")\n",
    "for db in cursor.fetchall():\n",
    "    print(db)"
   ]
  },
  {
   "cell_type": "code",
   "execution_count": 14,
   "metadata": {},
   "outputs": [
    {
     "name": "stdout",
     "output_type": "stream",
     "text": [
      "('students',)\n"
     ]
    }
   ],
   "source": [
    "cursor.execute(\"SHOW TABLES;\")\n",
    "for table in cursor.fetchall():\n",
    "    print(table)"
   ]
  },
  {
   "cell_type": "code",
   "execution_count": 15,
   "metadata": {},
   "outputs": [
    {
     "name": "stdout",
     "output_type": "stream",
     "text": [
      "('id', 'int', 'NO', 'PRI', None, 'auto_increment')\n",
      "('name', 'varchar(100)', 'YES', '', None, '')\n",
      "('age', 'int', 'YES', '', None, '')\n",
      "('grade', 'varchar(10)', 'YES', '', None, '')\n",
      "('email', 'varchar(100)', 'YES', '', None, '')\n"
     ]
    }
   ],
   "source": [
    "cursor.execute(\"DESCRIBE students;\")\n",
    "for column in cursor.fetchall():\n",
    "    print(column)"
   ]
  },
  {
   "cell_type": "code",
   "execution_count": 16,
   "metadata": {},
   "outputs": [
    {
     "name": "stdout",
     "output_type": "stream",
     "text": [
      "('students', 'CREATE TABLE `students` (\\n  `id` int NOT NULL AUTO_INCREMENT,\\n  `name` varchar(100) DEFAULT NULL,\\n  `age` int DEFAULT NULL,\\n  `grade` varchar(10) DEFAULT NULL,\\n  `email` varchar(100) DEFAULT NULL,\\n  PRIMARY KEY (`id`)\\n) ENGINE=InnoDB AUTO_INCREMENT=21 DEFAULT CHARSET=utf8mb4 COLLATE=utf8mb4_0900_ai_ci')\n"
     ]
    }
   ],
   "source": [
    "cursor.execute(\"SHOW CREATE TABLE students;\")\n",
    "for row in cursor.fetchall():\n",
    "    print(row)"
   ]
  },
  {
   "cell_type": "code",
   "execution_count": 17,
   "metadata": {},
   "outputs": [],
   "source": [
    "cursor.execute(\"SELECT * FROM students\")\n",
    "students = cursor.fetchall()"
   ]
  },
  {
   "cell_type": "code",
   "execution_count": 19,
   "metadata": {},
   "outputs": [
    {
     "name": "stdout",
     "output_type": "stream",
     "text": [
      "ID | Name             | Age | Grade | Email\n",
      "--------------------------------------------------\n"
     ]
    }
   ],
   "source": [
    "print(\"ID | Name             | Age | Grade | Email\")\n",
    "print(\"-\" * 50)"
   ]
  },
  {
   "cell_type": "code",
   "execution_count": 20,
   "metadata": {},
   "outputs": [
    {
     "name": "stdout",
     "output_type": "stream",
     "text": [
      "1   | John Doe         | 20  | A     | john.doe@example.com\n",
      "2   | Jane Smith       | 19  | B+    | jane.smith@example.com\n",
      "3   | Michael Johnson  | 21  | A-    | michael.j@example.com\n",
      "4   | Emily Davis      | 22  | B     | emily.davis@example.com\n",
      "5   | Chris Brown      | 20  | A     | chris.brown@example.com\n",
      "6   | Sarah Wilson     | 19  | B+    | sarah.wilson@example.com\n",
      "7   | David Jones      | 23  | C+    | david.jones@example.com\n",
      "8   | Laura Garcia     | 20  | A     | laura.garcia@example.com\n",
      "9   | Daniel Martinez  | 21  | B     | daniel.martinez@example.com\n",
      "10  | Sophia Lopez     | 22  | A-    | sophia.lopez@example.com\n",
      "11  | John Doe         | 20  | A     | john.doe@example.com\n",
      "12  | Jane Smith       | 19  | B+    | jane.smith@example.com\n",
      "13  | Michael Johnson  | 21  | A-    | michael.j@example.com\n",
      "14  | Emily Davis      | 22  | B     | emily.davis@example.com\n",
      "15  | Chris Brown      | 20  | A     | chris.brown@example.com\n",
      "16  | Sarah Wilson     | 19  | B+    | sarah.wilson@example.com\n",
      "17  | David Jones      | 23  | C+    | david.jones@example.com\n",
      "18  | Laura Garcia     | 20  | A     | laura.garcia@example.com\n",
      "19  | Daniel Martinez  | 21  | B     | daniel.martinez@example.com\n",
      "20  | Sophia Lopez     | 22  | A-    | sophia.lopez@example.com\n"
     ]
    }
   ],
   "source": [
    "for student in students:\n",
    "    print(f\"{student[0]:<3} | {student[1]:<16} | {student[2]:<3} | {student[3]:<5} | {student[4]}\")\n"
   ]
  }
 ],
 "metadata": {
  "kernelspec": {
   "display_name": "myvenv",
   "language": "python",
   "name": "python3"
  },
  "language_info": {
   "codemirror_mode": {
    "name": "ipython",
    "version": 3
   },
   "file_extension": ".py",
   "mimetype": "text/x-python",
   "name": "python",
   "nbconvert_exporter": "python",
   "pygments_lexer": "ipython3",
   "version": "3.12.3"
  }
 },
 "nbformat": 4,
 "nbformat_minor": 2
}
